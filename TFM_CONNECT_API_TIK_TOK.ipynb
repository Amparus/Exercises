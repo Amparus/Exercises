{
  "nbformat": 4,
  "nbformat_minor": 0,
  "metadata": {
    "colab": {
      "name": "TFM CONNECT API TIK TOK",
      "provenance": [],
      "collapsed_sections": [],
      "authorship_tag": "ABX9TyOSjn1yHbYbEW4WmpYCmqu5",
      "include_colab_link": true
    },
    "kernelspec": {
      "name": "python3",
      "display_name": "Python 3"
    },
    "language_info": {
      "name": "python"
    }
  },
  "cells": [
    {
      "cell_type": "markdown",
      "metadata": {
        "id": "view-in-github",
        "colab_type": "text"
      },
      "source": [
        "<a href=\"https://colab.research.google.com/github/Amparus/Exercises/blob/main/TFM_CONNECT_API_TIK_TOK.ipynb\" target=\"_parent\"><img src=\"https://colab.research.google.com/assets/colab-badge.svg\" alt=\"Open In Colab\"/></a>"
      ]
    },
    {
      "cell_type": "markdown",
      "metadata": {
        "id": "3vAaOfVR9cM-"
      },
      "source": [
        "Generamos cuaderno para tratar de conectar a la API de TIK TOK y poder extraer datos relacionados con cuentas o menciones de Mercadona  (@Mercadona  #Mercadona Mercadona)\n"
      ]
    },
    {
      "cell_type": "code",
      "metadata": {
        "id": "FkdCUiOzw4_f",
        "colab": {
          "base_uri": "https://localhost:8080/"
        },
        "outputId": "96406493-30a1-496e-ecf3-3eef7ca239dd"
      },
      "source": [
        "##INSTALAMOS LA API DE TIK TOK\n",
        "\n",
        "\n",
        "!pip install TikTokApi\n"
      ],
      "execution_count": null,
      "outputs": [
        {
          "output_type": "stream",
          "text": [
            "Collecting TikTokApi\n",
            "\u001b[?25l  Downloading https://files.pythonhosted.org/packages/2e/64/03946259224ed13a96d8f43652bb49328a17d5ba4e4c1ba40493aa6f169f/TikTokApi-3.9.9.1.tar.gz (55kB)\n",
            "\u001b[K     |████████████████████████████████| 61kB 3.2MB/s \n",
            "\u001b[?25hRequirement already satisfied: requests in /usr/local/lib/python3.7/dist-packages (from TikTokApi) (2.23.0)\n",
            "Collecting playwright\n",
            "\u001b[?25l  Downloading https://files.pythonhosted.org/packages/b7/50/d04a0ab3121906c575b8cf07baadfbd2436cc7dc8db74e62fe8549b88f60/playwright-1.12.1-py3-none-manylinux1_x86_64.whl (20.2MB)\n",
            "\u001b[K     |████████████████████████████████| 20.2MB 1.5MB/s \n",
            "\u001b[?25hCollecting selenium_stealth\n",
            "  Downloading https://files.pythonhosted.org/packages/cb/ac/7877df8b819d54a4e317a093a0a9e0a38d21d884a7250aa713f2f0869442/selenium_stealth-1.0.6-py3-none-any.whl\n",
            "Collecting selenium\n",
            "\u001b[?25l  Downloading https://files.pythonhosted.org/packages/80/d6/4294f0b4bce4de0abf13e17190289f9d0613b0a44e5dd6a7f5ca98459853/selenium-3.141.0-py2.py3-none-any.whl (904kB)\n",
            "\u001b[K     |████████████████████████████████| 911kB 31.6MB/s \n",
            "\u001b[?25hRequirement already satisfied: idna<3,>=2.5 in /usr/local/lib/python3.7/dist-packages (from requests->TikTokApi) (2.10)\n",
            "Requirement already satisfied: chardet<4,>=3.0.2 in /usr/local/lib/python3.7/dist-packages (from requests->TikTokApi) (3.0.4)\n",
            "Requirement already satisfied: certifi>=2017.4.17 in /usr/local/lib/python3.7/dist-packages (from requests->TikTokApi) (2021.5.30)\n",
            "Requirement already satisfied: urllib3!=1.25.0,!=1.25.1,<1.26,>=1.21.1 in /usr/local/lib/python3.7/dist-packages (from requests->TikTokApi) (1.24.3)\n",
            "Requirement already satisfied: greenlet>=1.0.0 in /usr/local/lib/python3.7/dist-packages (from playwright->TikTokApi) (1.1.0)\n",
            "Collecting websockets>=8.1\n",
            "\u001b[?25l  Downloading https://files.pythonhosted.org/packages/84/64/78c2b3fe37730b30dca3c93d1f7f4a4286767f86e7c04cf3571b39bc2fb7/websockets-9.1-cp37-cp37m-manylinux2010_x86_64.whl (103kB)\n",
            "\u001b[K     |████████████████████████████████| 112kB 39.1MB/s \n",
            "\u001b[?25hRequirement already satisfied: typing-extensions; python_version <= \"3.8\" in /usr/local/lib/python3.7/dist-packages (from playwright->TikTokApi) (3.7.4.3)\n",
            "Collecting pyee>=8.0.1\n",
            "  Downloading https://files.pythonhosted.org/packages/0d/0a/933b3931107e1da186963fd9bb9bceb9a613cff034cb0fb3b0c61003f357/pyee-8.1.0-py2.py3-none-any.whl\n",
            "Building wheels for collected packages: TikTokApi\n",
            "  Building wheel for TikTokApi (setup.py) ... \u001b[?25l\u001b[?25hdone\n",
            "  Created wheel for TikTokApi: filename=TikTokApi-3.9.9.1-cp37-none-any.whl size=55334 sha256=c69c19e8901bb4b5b7b31b5f6fbb2ee46ce49898d2dd91dcce959a861254e5d4\n",
            "  Stored in directory: /root/.cache/pip/wheels/60/7a/ab/c5c1b1f2f388a118fe1f350205683a0e2a38c7b0b11427b559\n",
            "Successfully built TikTokApi\n",
            "Installing collected packages: websockets, pyee, playwright, selenium, selenium-stealth, TikTokApi\n",
            "Successfully installed TikTokApi-3.9.9.1 playwright-1.12.1 pyee-8.1.0 selenium-3.141.0 selenium-stealth-1.0.6 websockets-9.1\n"
          ],
          "name": "stdout"
        }
      ]
    },
    {
      "cell_type": "code",
      "metadata": {
        "colab": {
          "base_uri": "https://localhost:8080/"
        },
        "id": "PwtMGKQ5-nZp",
        "outputId": "3c65c864-e407-47d4-c105-2ccf4addfdcb"
      },
      "source": [
        "pip install selenium\n"
      ],
      "execution_count": null,
      "outputs": [
        {
          "output_type": "stream",
          "text": [
            "Requirement already satisfied: selenium in /usr/local/lib/python3.7/dist-packages (3.141.0)\n",
            "Requirement already satisfied: urllib3 in /usr/local/lib/python3.7/dist-packages (from selenium) (1.24.3)\n"
          ],
          "name": "stdout"
        }
      ]
    },
    {
      "cell_type": "code",
      "metadata": {
        "colab": {
          "base_uri": "https://localhost:8080/",
          "height": 374
        },
        "id": "Gbm8rHREBylj",
        "outputId": "d2795a2a-7255-49e9-f3a0-1763980d228a"
      },
      "source": [
        "import random\n",
        "import selenium\n",
        "from selenium import webdriver\n",
        "from selenium.webdriver.common.keys import Keys\n",
        "import time\n",
        "import pandas as pd \n",
        "\n",
        "from TikTokApi import TikTokApi\n",
        "api = TikTokApi.get_instance()\n",
        "# If playwright doesn't work for you try to use selenium\n",
        "api = TikTokApi.get_instance(use_selenium=True)\n",
        "\n",
        "results = 10\n",
        "\n",
        "# Since TikTok changed their API you need to use the custom_verifyFp option. \n",
        "# In your web browser you will need to go to TikTok, Log in and get the s_v_web_id value.\n",
        "trending = api.trending(count=results, custom_verifyFp=\"\")\n",
        "\n",
        "for tiktok in trending:\n",
        "    # Prints the id of the tiktok\n",
        "    print(tiktok['id'])\n",
        "\n",
        "print(len(trending))"
      ],
      "execution_count": null,
      "outputs": [
        {
          "output_type": "error",
          "ename": "AttributeError",
          "evalue": "ignored",
          "traceback": [
            "\u001b[0;31m---------------------------------------------------------------------------\u001b[0m",
            "\u001b[0;31mAttributeError\u001b[0m                            Traceback (most recent call last)",
            "\u001b[0;32m<ipython-input-13-386f015dc704>\u001b[0m in \u001b[0;36m<module>\u001b[0;34m()\u001b[0m\n\u001b[1;32m     15\u001b[0m \u001b[0;31m# Since TikTok changed their API you need to use the custom_verifyFp option.\u001b[0m\u001b[0;34m\u001b[0m\u001b[0;34m\u001b[0m\u001b[0;34m\u001b[0m\u001b[0m\n\u001b[1;32m     16\u001b[0m \u001b[0;31m# In your web browser you will need to go to TikTok, Log in and get the s_v_web_id value.\u001b[0m\u001b[0;34m\u001b[0m\u001b[0;34m\u001b[0m\u001b[0;34m\u001b[0m\u001b[0m\n\u001b[0;32m---> 17\u001b[0;31m \u001b[0mtrending\u001b[0m \u001b[0;34m=\u001b[0m \u001b[0mapi\u001b[0m\u001b[0;34m.\u001b[0m\u001b[0mtrending\u001b[0m\u001b[0;34m(\u001b[0m\u001b[0mcount\u001b[0m\u001b[0;34m=\u001b[0m\u001b[0mresults\u001b[0m\u001b[0;34m,\u001b[0m \u001b[0mcustom_verifyFp\u001b[0m\u001b[0;34m=\u001b[0m\u001b[0;34m\"\"\u001b[0m\u001b[0;34m)\u001b[0m\u001b[0;34m\u001b[0m\u001b[0;34m\u001b[0m\u001b[0m\n\u001b[0m\u001b[1;32m     18\u001b[0m \u001b[0;34m\u001b[0m\u001b[0m\n\u001b[1;32m     19\u001b[0m \u001b[0;32mfor\u001b[0m \u001b[0mtiktok\u001b[0m \u001b[0;32min\u001b[0m \u001b[0mtrending\u001b[0m\u001b[0;34m:\u001b[0m\u001b[0;34m\u001b[0m\u001b[0;34m\u001b[0m\u001b[0m\n",
            "\u001b[0;32m/usr/local/lib/python3.7/dist-packages/TikTokApi/tiktok.py\u001b[0m in \u001b[0;36mby_trending\u001b[0;34m(self, count, **kwargs)\u001b[0m\n\u001b[1;32m    419\u001b[0m             }\n\u001b[1;32m    420\u001b[0m             api_url = \"{}api/recommend/item_list/?{}&{}\".format(\n\u001b[0;32m--> 421\u001b[0;31m                 \u001b[0mBASE_URL\u001b[0m\u001b[0;34m,\u001b[0m \u001b[0mself\u001b[0m\u001b[0;34m.\u001b[0m\u001b[0m__add_new_params__\u001b[0m\u001b[0;34m(\u001b[0m\u001b[0;34m)\u001b[0m\u001b[0;34m,\u001b[0m \u001b[0murlencode\u001b[0m\u001b[0;34m(\u001b[0m\u001b[0mquery\u001b[0m\u001b[0;34m)\u001b[0m\u001b[0;34m\u001b[0m\u001b[0;34m\u001b[0m\u001b[0m\n\u001b[0m\u001b[1;32m    422\u001b[0m             )\n\u001b[1;32m    423\u001b[0m             \u001b[0mres\u001b[0m \u001b[0;34m=\u001b[0m \u001b[0mself\u001b[0m\u001b[0;34m.\u001b[0m\u001b[0mget_data\u001b[0m\u001b[0;34m(\u001b[0m\u001b[0murl\u001b[0m\u001b[0;34m=\u001b[0m\u001b[0mapi_url\u001b[0m\u001b[0;34m,\u001b[0m \u001b[0;34m**\u001b[0m\u001b[0mkwargs\u001b[0m\u001b[0;34m)\u001b[0m\u001b[0;34m\u001b[0m\u001b[0;34m\u001b[0m\u001b[0m\n",
            "\u001b[0;32m/usr/local/lib/python3.7/dist-packages/TikTokApi/tiktok.py\u001b[0m in \u001b[0;36m__add_new_params__\u001b[0;34m(self)\u001b[0m\n\u001b[1;32m   1675\u001b[0m             \u001b[0;34m\"user_agent\"\u001b[0m\u001b[0;34m:\u001b[0m \u001b[0mself\u001b[0m\u001b[0;34m.\u001b[0m\u001b[0m__format_new_params__\u001b[0m\u001b[0;34m(\u001b[0m\u001b[0mself\u001b[0m\u001b[0;34m.\u001b[0m\u001b[0muserAgent\u001b[0m\u001b[0;34m)\u001b[0m\u001b[0;34m,\u001b[0m\u001b[0;34m\u001b[0m\u001b[0;34m\u001b[0m\u001b[0m\n\u001b[1;32m   1676\u001b[0m             \u001b[0;34m\"cookie_enabled\"\u001b[0m\u001b[0;34m:\u001b[0m \u001b[0;34m\"true\"\u001b[0m\u001b[0;34m,\u001b[0m\u001b[0;34m\u001b[0m\u001b[0;34m\u001b[0m\u001b[0m\n\u001b[0;32m-> 1677\u001b[0;31m             \u001b[0;34m\"screen_width\"\u001b[0m\u001b[0;34m:\u001b[0m \u001b[0mself\u001b[0m\u001b[0;34m.\u001b[0m\u001b[0mwidth\u001b[0m\u001b[0;34m,\u001b[0m\u001b[0;34m\u001b[0m\u001b[0;34m\u001b[0m\u001b[0m\n\u001b[0m\u001b[1;32m   1678\u001b[0m             \u001b[0;34m\"screen_height\"\u001b[0m\u001b[0;34m:\u001b[0m \u001b[0mself\u001b[0m\u001b[0;34m.\u001b[0m\u001b[0mheight\u001b[0m\u001b[0;34m,\u001b[0m\u001b[0;34m\u001b[0m\u001b[0;34m\u001b[0m\u001b[0m\n\u001b[1;32m   1679\u001b[0m             \u001b[0;34m\"browser_language\"\u001b[0m\u001b[0;34m:\u001b[0m \u001b[0mself\u001b[0m\u001b[0;34m.\u001b[0m\u001b[0mbrowser_language\u001b[0m\u001b[0;34m,\u001b[0m\u001b[0;34m\u001b[0m\u001b[0;34m\u001b[0m\u001b[0m\n",
            "\u001b[0;31mAttributeError\u001b[0m: 'TikTokApi' object has no attribute 'width'"
          ]
        }
      ]
    },
    {
      "cell_type": "code",
      "metadata": {
        "colab": {
          "base_uri": "https://localhost:8080/",
          "height": 129
        },
        "id": "neIBpTFCDKp6",
        "outputId": "77b731f8-69f4-4155-ec41-dc9df621cae8"
      },
      "source": [
        "python -m examples.getTrending"
      ],
      "execution_count": null,
      "outputs": [
        {
          "output_type": "error",
          "ename": "SyntaxError",
          "evalue": "ignored",
          "traceback": [
            "\u001b[0;36m  File \u001b[0;32m\"<ipython-input-14-3b0d5b7d87a1>\"\u001b[0;36m, line \u001b[0;32m1\u001b[0m\n\u001b[0;31m    python -m examples.getTrending\u001b[0m\n\u001b[0m                     ^\u001b[0m\n\u001b[0;31mSyntaxError\u001b[0m\u001b[0;31m:\u001b[0m invalid syntax\n"
          ]
        }
      ]
    }
  ]
}